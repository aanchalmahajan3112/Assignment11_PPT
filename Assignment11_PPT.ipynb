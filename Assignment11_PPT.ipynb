{
  "nbformat": 4,
  "nbformat_minor": 0,
  "metadata": {
    "colab": {
      "provenance": []
    },
    "kernelspec": {
      "name": "python3",
      "display_name": "Python 3"
    },
    "language_info": {
      "name": "python"
    }
  },
  "cells": [
    {
      "cell_type": "code",
      "execution_count": 1,
      "metadata": {
        "colab": {
          "base_uri": "https://localhost:8080/"
        },
        "id": "WPAGLeK8nE5S",
        "outputId": "02464a62-03d9-4f8b-ebe0-e8de4c70a8e1"
      },
      "outputs": [
        {
          "output_type": "stream",
          "name": "stdout",
          "text": [
            "2\n",
            "2\n"
          ]
        }
      ],
      "source": [
        "# 💡 **Question 1**\n",
        "\n",
        "# Given a non-negative integer `x`, return *the square root of* `x` *rounded down to the nearest integer*. The returned integer should be **non-negative** as well.\n",
        "\n",
        "# You **must not use** any built-in exponent function or operator.\n",
        "\n",
        "# - For example, do not use `pow(x, 0.5)` in c++ or `x ** 0.5` in python.\n",
        "\n",
        "# **Example 1:**\n",
        "\n",
        "# Input: x = 4\n",
        "# Output: 2\n",
        "# Explanation: The square root of 4 is 2, so we return 2.\n",
        "\n",
        "# Example 2:\n",
        "# Input: x = 8\n",
        "# Output: 2\n",
        "# Explanation: The square root of 8 is 2.82842..., and since we round it down to the nearest integer, 2 is returned.\n",
        "\n",
        "\n",
        "def mySqrt(x):\n",
        "    if x == 0:\n",
        "        return 0\n",
        "\n",
        "    left, right = 1, x\n",
        "    while left <= right:\n",
        "        mid = (left + right) // 2\n",
        "        if mid * mid > x:\n",
        "            right = mid - 1\n",
        "        else:\n",
        "            left = mid + 1\n",
        "\n",
        "    return right\n",
        "\n",
        "print(mySqrt(4))\n",
        "print(mySqrt(8))\n"
      ]
    },
    {
      "cell_type": "code",
      "source": [
        "# 💡 **Question 2**\n",
        "\n",
        "# A peak element is an element that is strictly greater than its neighbors.\n",
        "\n",
        "# Given a **0-indexed** integer array `nums`, find a peak element, and return its index. If the array contains multiple peaks, return the index to **any of the peaks**.\n",
        "\n",
        "# You may imagine that `nums[-1] = nums[n] = -∞`. In other words, an element is always considered to be strictly greater than a neighbor that is outside the array.\n",
        "\n",
        "# You must write an algorithm that runs in `O(log n)` time.\n",
        "\n",
        "# **Example 1:**\n",
        "\n",
        "# Input: nums = [1,2,3,1]\n",
        "# Output: 2\n",
        "# Explanation: 3 is a peak element and your function should return the index number 2.\n",
        "\n",
        "# Example 2:\n",
        "# Input: nums = [1,2,1,3,5,6,4]\n",
        "# Output: 5\n",
        "# Explanation: Your function can return either index number 1 where the peak element is 2, or index number 5 where the peak element is 6.\n",
        "\n",
        "\n",
        "def findPeakElement(nums):\n",
        "    left, right = 0, len(nums) - 1\n",
        "    while left < right:\n",
        "        mid = (left + right) // 2\n",
        "        if nums[mid] > nums[mid + 1]:\n",
        "            right = mid\n",
        "        else:\n",
        "            left = mid + 1\n",
        "    return left\n",
        "\n",
        "print(findPeakElement([1, 2, 3, 1]))\n",
        "print(findPeakElement([1, 2, 1, 3, 5, 6, 4]))\n"
      ],
      "metadata": {
        "colab": {
          "base_uri": "https://localhost:8080/"
        },
        "id": "mI7hNU0Yn93z",
        "outputId": "0df5bfed-cd3f-4639-97a9-73bbbe14a999"
      },
      "execution_count": 3,
      "outputs": [
        {
          "output_type": "stream",
          "name": "stdout",
          "text": [
            "2\n",
            "5\n"
          ]
        }
      ]
    },
    {
      "cell_type": "code",
      "source": [
        "\n",
        "# 💡 **Question 3**\n",
        "\n",
        "# ****\n",
        "\n",
        "# Given an array `nums` containing `n` distinct numbers in the range `[0, n]`, return *the only number in the range that is missing from the array.*\n",
        "\n",
        "# **Example 1:**\n",
        "\n",
        "# Input: nums = [3,0,1]\n",
        "# Output: 2\n",
        "# Explanation: n = 3 since there are 3 numbers, so all numbers are in the range [0,3]. 2 is the missing number in the range since it does not appear in nums.\n",
        "\n",
        "# Example 2:\n",
        "# Input: nums = [0,1]\n",
        "# Output: 2\n",
        "# Explanation: n = 2 since there are 2 numbers, so all numbers are in the range [0,2]. 2 is the missing number in the range since it does not appear in nums.\n",
        "\n",
        "# Example 3:\n",
        "# Input: nums = [9,6,4,2,3,5,7,0,1]\n",
        "# Output: 8\n",
        "# Explanation: n = 9 since there are 9 numbers, so all numbers are in the range [0,9]. 8 is the missing number in the range since it does not appear in nums.\n",
        "\n",
        "\n",
        "\n",
        "def missingNumber(nums):\n",
        "    n = len(nums)\n",
        "    missing = n\n",
        "    for i, num in enumerate(nums):\n",
        "        missing ^= i ^ num\n",
        "    return missing\n",
        "\n",
        "print(missingNumber([3, 0, 1]))\n",
        "print(missingNumber([0, 1]))\n",
        "print(missingNumber([9, 6, 4, 2, 3, 5, 7, 0, 1]))\n"
      ],
      "metadata": {
        "colab": {
          "base_uri": "https://localhost:8080/"
        },
        "id": "P2AdFRq8pgBw",
        "outputId": "9224da1f-772d-45e4-f89a-74fc96bff621"
      },
      "execution_count": 5,
      "outputs": [
        {
          "output_type": "stream",
          "name": "stdout",
          "text": [
            "2\n",
            "2\n",
            "8\n"
          ]
        }
      ]
    },
    {
      "cell_type": "code",
      "source": [
        "# 💡 **Question 4**\n",
        "\n",
        "# Given an array of integers `nums` containing `n + 1` integers where each integer is in the range `[1, n]` inclusive.\n",
        "\n",
        "# There is only **one repeated number** in `nums`, return *this repeated number*.\n",
        "\n",
        "# You must solve the problem **without** modifying the array `nums` and uses only constant extra space.\n",
        "\n",
        "# **Example 1:**\n",
        "\n",
        "# Input: nums = [1,3,4,2,2]\n",
        "# Output: 2\n",
        "\n",
        "# Example 2:\n",
        "# Input: nums = [3,1,3,4,2]\n",
        "# Output: 3\n",
        "\n",
        "\n",
        "def findDuplicate(nums):\n",
        "    slow = fast = nums[0]\n",
        "    while True:\n",
        "        slow = nums[slow]\n",
        "        fast = nums[nums[fast]]\n",
        "        if slow == fast:\n",
        "            break\n",
        "\n",
        "    fast = nums[0]\n",
        "    while slow != fast:\n",
        "        slow = nums[slow]\n",
        "        fast = nums[fast]\n",
        "\n",
        "    return slow\n",
        "\n",
        "print(findDuplicate([1, 3, 4, 2, 2]))\n",
        "print(findDuplicate([3, 1, 3, 4, 2]))\n"
      ],
      "metadata": {
        "colab": {
          "base_uri": "https://localhost:8080/"
        },
        "id": "6zxkLpGbqixg",
        "outputId": "26c5698c-c479-40ca-a9a9-c4065ffea3b4"
      },
      "execution_count": 7,
      "outputs": [
        {
          "output_type": "stream",
          "name": "stdout",
          "text": [
            "2\n",
            "3\n"
          ]
        }
      ]
    },
    {
      "cell_type": "code",
      "source": [
        "# 💡 **Question 5**\n",
        "\n",
        "# Given two integer arrays `nums1` and `nums2`, return *an array of their intersection*. Each element in the result must be **unique** and you may return the result in **any order**.\n",
        "\n",
        "# **Example 1:**\n",
        "\n",
        "# Input: nums1 = [1,2,2,1], nums2 = [2,2]\n",
        "# Output: [2]\n",
        "# Example 2:\n",
        "# Input: nums1 = [4,9,5], nums2 = [9,4,9,8,4]\n",
        "# Output: [9,4]\n",
        "# Explanation: [4,9] is also accepted.\n",
        "\n",
        "\n",
        "def intersection(nums1, nums2):\n",
        "    set1 = set(nums1)\n",
        "    set2 = set(nums2)\n",
        "    intersect = list(set1.intersection(set2))\n",
        "    return intersect\n",
        "\n",
        "print(intersection([1, 2, 2, 1], [2, 2]))  # Output: [2]\n",
        "print(intersection([4, 9, 5], [9, 4, 9, 8, 4]))  # Output: [4, 9]\n"
      ],
      "metadata": {
        "colab": {
          "base_uri": "https://localhost:8080/"
        },
        "id": "3IZEGbCCrnEE",
        "outputId": "ca31c031-496c-4cfd-b6fd-9c6d36926cec"
      },
      "execution_count": 8,
      "outputs": [
        {
          "output_type": "stream",
          "name": "stdout",
          "text": [
            "[2]\n",
            "[9, 4]\n"
          ]
        }
      ]
    },
    {
      "cell_type": "code",
      "source": [
        "# 💡 **Question 6**\n",
        "\n",
        "# Suppose an array of length `n` sorted in ascending order is **rotated** between `1` and `n` times. For example, the array `nums = [0,1,2,4,5,6,7]` might become:\n",
        "\n",
        "# - `[4,5,6,7,0,1,2]` if it was rotated `4` times.\n",
        "# - `[0,1,2,4,5,6,7]` if it was rotated `7` times.\n",
        "\n",
        "# Notice that **rotating** an array `[a[0], a[1], a[2], ..., a[n-1]]` 1 time results in the array `[a[n-1], a[0], a[1], a[2], ..., a[n-2]]`.\n",
        "\n",
        "# Given the sorted rotated array `nums` of **unique** elements, return *the minimum element of this array*.\n",
        "\n",
        "# You must write an algorithm that runs in `O(log n) time.`\n",
        "\n",
        "# **Example 1:**\n",
        "# Input: nums = [3,4,5,1,2]\n",
        "# Output: 1\n",
        "# Explanation: The original array was [1,2,3,4,5] rotated 3 times.\n",
        "\n",
        "# Example 2:\n",
        "# Input: nums = [4,5,6,7,0,1,2]\n",
        "# Output: 0\n",
        "# Explanation: The original array was [0,1,2,4,5,6,7] and it was rotated 4 times.\n",
        "\n",
        "# Example 3:\n",
        "# Input: nums = [11,13,15,17]\n",
        "# Output: 11\n",
        "# Explanation: The original array was [11,13,15,17] and it was rotated 4 times.\n",
        "\n",
        "\n",
        "def findMin(nums):\n",
        "    left, right = 0, len(nums) - 1\n",
        "    while left < right:\n",
        "        mid = (left + right) // 2\n",
        "        if nums[mid] < nums[right]:\n",
        "            right = mid\n",
        "        else:\n",
        "            left = mid + 1\n",
        "    return nums[left]\n",
        "\n",
        "print(findMin([3, 4, 5, 1, 2]))\n",
        "print(findMin([4, 5, 6, 7, 0, 1, 2]))\n",
        "print(findMin([11, 13, 15, 17]))\n"
      ],
      "metadata": {
        "colab": {
          "base_uri": "https://localhost:8080/"
        },
        "id": "OjuoMzwosdPg",
        "outputId": "22dc8378-5ccc-40fb-aa7f-ff9d549ed7f1"
      },
      "execution_count": 9,
      "outputs": [
        {
          "output_type": "stream",
          "name": "stdout",
          "text": [
            "1\n",
            "0\n",
            "11\n"
          ]
        }
      ]
    },
    {
      "cell_type": "code",
      "source": [
        "# 💡 **Question 7**\n",
        "\n",
        "# Given an array of integers `nums` sorted in non-decreasing order, find the starting and ending position of a given `target` value.\n",
        "\n",
        "# If `target` is not found in the array, return `[-1, -1]`.\n",
        "\n",
        "# You must write an algorithm with `O(log n)` runtime complexity.\n",
        "\n",
        "# **Example 1:**\n",
        "\n",
        "# Input: nums = [5,7,7,8,8,10], target = 8\n",
        "# Output: [3,4]\n",
        "\n",
        "# Example 2:\n",
        "# Input: nums = [5,7,7,8,8,10], target = 6\n",
        "# Output: [-1,-1]\n",
        "# Example 3:\n",
        "# Input: nums = [], target = 0\n",
        "# Output: [-1,-1]\n",
        "\n",
        "\n",
        "def searchRange(nums, target):\n",
        "    def binarySearch(nums, target, left, right):\n",
        "        while left <= right:\n",
        "            mid = (left + right) // 2\n",
        "            if nums[mid] == target:\n",
        "                return mid\n",
        "            elif nums[mid] > target:\n",
        "                right = mid - 1\n",
        "            else:\n",
        "                left = mid + 1\n",
        "        return -1\n",
        "\n",
        "    start = binarySearch(nums, target, 0, len(nums) - 1)\n",
        "    if start == -1:\n",
        "        return [-1, -1]\n",
        "\n",
        "    end = binarySearch(nums, target, start, len(nums) - 1)\n",
        "    return [start, end]\n",
        "\n",
        "print(searchRange([5, 7, 7, 8, 8, 10], 8))\n",
        "print(searchRange([5, 7, 7, 8, 8, 10], 6))\n",
        "print(searchRange([], 0))\n",
        "\n",
        "\n"
      ],
      "metadata": {
        "colab": {
          "base_uri": "https://localhost:8080/"
        },
        "id": "NapmceCctVl_",
        "outputId": "68a8c284-0277-42a8-acde-d56c21eaa588"
      },
      "execution_count": 12,
      "outputs": [
        {
          "output_type": "stream",
          "name": "stdout",
          "text": [
            "[4, 4]\n",
            "[-1, -1]\n",
            "[-1, -1]\n"
          ]
        }
      ]
    },
    {
      "cell_type": "code",
      "source": [
        "# 💡 **Question 8**\n",
        "\n",
        "# Given two integer arrays `nums1` and `nums2`, return *an array of their intersection*. Each element in the result must appear as many times as it shows in both arrays and you may return the result in **any order**.\n",
        "\n",
        "# **Example 1:**\n",
        "\n",
        "# Input: nums1 = [1,2,2,1], nums2 = [2,2]\n",
        "# Output: [2,2]\n",
        "\n",
        "# Example 2:\n",
        "# Input: nums1 = [4,9,5], nums2 = [9,4,9,8,4]\n",
        "# Output: [4,9]\n",
        "# Explanation: [9,4] is also accepted.\n",
        "\n",
        "\n",
        "def intersect(nums1, nums2):\n",
        "    freqMap = {}\n",
        "    for num in nums1:\n",
        "        freqMap[num] = freqMap.get(num, 0) + 1\n",
        "\n",
        "    result = []\n",
        "    for num in nums2:\n",
        "        if num in freqMap and freqMap[num] > 0:\n",
        "            result.append(num)\n",
        "            freqMap[num] -= 1\n",
        "\n",
        "    return result\n",
        "\n",
        "print(intersect([1, 2, 2, 1], [2, 2]))\n",
        "print(intersect([4, 9, 5], [9, 4, 9, 8, 4]))\n"
      ],
      "metadata": {
        "colab": {
          "base_uri": "https://localhost:8080/"
        },
        "id": "rTVIeeCOu0XH",
        "outputId": "8484ddf5-223f-413b-c039-7087dfda2d6a"
      },
      "execution_count": 14,
      "outputs": [
        {
          "output_type": "stream",
          "name": "stdout",
          "text": [
            "[2, 2]\n",
            "[9, 4]\n"
          ]
        }
      ]
    }
  ]
}